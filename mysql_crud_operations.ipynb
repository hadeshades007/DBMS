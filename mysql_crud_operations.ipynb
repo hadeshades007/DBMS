{
 "cells": [
  {
   "cell_type": "markdown",
   "metadata": {},
   "source": [
    "# Code to connect to MySQL instance\n"
   ]
  },
  {
   "cell_type": "code",
   "execution_count": 2,
   "metadata": {},
   "outputs": [
    {
     "name": "stdout",
     "output_type": "stream",
     "text": [
      "Defaulting to user installation because normal site-packages is not writeable\n",
      "Requirement already satisfied: mysql-connector-python in /Users/jamescrummack/Library/Python/3.9/lib/python/site-packages (9.2.0)\n"
     ]
    }
   ],
   "source": [
    "!pip install mysql-connector-python\n",
    "import mysql.connector"
   ]
  },
  {
   "cell_type": "markdown",
   "metadata": {},
   "source": [
    "## Ensure that iP address is allowed by google coud to connect to the instance."
   ]
  },
  {
   "cell_type": "code",
   "execution_count": 10,
   "metadata": {},
   "outputs": [
    {
     "name": "stdout",
     "output_type": "stream",
     "text": [
      "Connected!\n"
     ]
    }
   ],
   "source": [
    "import mysql.connector\n",
    "\n",
    "config = {\n",
    "    'user': 'james',\n",
    "    'password': '******',\n",
    "    'host': '34.147.246.76', # public IP of the VM\n",
    "    'database': 'LostAndFound',\n",
    "    'port': 3306,\n",
    "    'raise_on_warnings': True\n",
    "}\n",
    "\n",
    "try:\n",
    "    conn = mysql.connector.connect(**config)\n",
    "    cursor = conn.cursor()\n",
    "    print(\"Connected!\")\n",
    "except Exception as e:\n",
    "    print(\"Connection error:\", e)\n"
   ]
  },
  {
   "cell_type": "markdown",
   "metadata": {},
   "source": [
    "### Tables in the DB"
   ]
  },
  {
   "cell_type": "code",
   "execution_count": 14,
   "metadata": {},
   "outputs": [
    {
     "name": "stdout",
     "output_type": "stream",
     "text": [
      "Tables in database:\n",
      "Claims\n",
      "Lost_Items\n",
      "Users\n"
     ]
    }
   ],
   "source": [
    "cursor.execute(\"SHOW TABLES\")\n",
    "tables = cursor.fetchall()\n",
    "print(\"Tables in database:\")\n",
    "for table in tables:\n",
    "    print(table[0])"
   ]
  },
  {
   "cell_type": "markdown",
   "metadata": {},
   "source": [
    "## Claims"
   ]
  },
  {
   "cell_type": "code",
   "execution_count": 20,
   "metadata": {},
   "outputs": [
    {
     "name": "stdout",
     "output_type": "stream",
     "text": [
      "Columns in `Claims`:\n",
      "Claim_ID - int\n",
      "User_ID - int\n",
      "Item_ID - int\n",
      "Status - enum('Pending','Verified','Rejected')\n",
      "Submitted_At - timestamp\n",
      "Verified_By - int\n",
      "Resolution_Date - timestamp\n"
     ]
    }
   ],
   "source": [
    "table_name = 'Claims'\n",
    "cursor.execute(f\"DESCRIBE {table_name}\")\n",
    "columns = cursor.fetchall()\n",
    "\n",
    "print(f\"Columns in `{table_name}`:\")\n",
    "for col in columns:\n",
    "    print(col[0], '-', col[1])"
   ]
  },
  {
   "cell_type": "markdown",
   "metadata": {},
   "source": [
    "## Lost_Items"
   ]
  },
  {
   "cell_type": "code",
   "execution_count": 21,
   "metadata": {},
   "outputs": [
    {
     "name": "stdout",
     "output_type": "stream",
     "text": [
      "Columns in `Lost_Items`:\n",
      "Item_ID - int\n",
      "Name - varchar(100)\n",
      "Category - varchar(50)\n",
      "Location - varchar(100)\n",
      "Found_Date - date\n",
      "Description - text\n",
      "Status - enum('Lost','Claimed','Returned')\n",
      "User_ID - int\n"
     ]
    }
   ],
   "source": [
    "table_name = 'Lost_Items'\n",
    "cursor.execute(f\"DESCRIBE {table_name}\")\n",
    "columns = cursor.fetchall()\n",
    "\n",
    "print(f\"Columns in `{table_name}`:\")\n",
    "for col in columns:\n",
    "    print(col[0], '-', col[1])"
   ]
  },
  {
   "cell_type": "markdown",
   "metadata": {},
   "source": [
    "## Users"
   ]
  },
  {
   "cell_type": "code",
   "execution_count": 22,
   "metadata": {},
   "outputs": [
    {
     "name": "stdout",
     "output_type": "stream",
     "text": [
      "Columns in `Users`:\n",
      "User_ID - int\n",
      "Name - varchar(100)\n",
      "Email - varchar(255)\n",
      "Password_Hash - varchar(255)\n",
      "Role - enum('Admin','User','Employee')\n",
      "Created_At - timestamp\n"
     ]
    }
   ],
   "source": [
    "table_name = 'Users'\n",
    "cursor.execute(f\"DESCRIBE {table_name}\")\n",
    "columns = cursor.fetchall()\n",
    "\n",
    "print(f\"Columns in `{table_name}`:\")\n",
    "for col in columns:\n",
    "    print(col[0], '-', col[1])"
   ]
  },
  {
   "cell_type": "markdown",
   "metadata": {},
   "source": [
    "## Now for Actual CRUD Operations\n",
    "\n",
    "*  Use faker for data generation."
   ]
  },
  {
   "cell_type": "code",
   "execution_count": 25,
   "metadata": {},
   "outputs": [],
   "source": [
    "from faker import Faker\n",
    "import random\n",
    "from datetime import datetime, timedelta\n",
    "\n",
    "fake = Faker()"
   ]
  },
  {
   "cell_type": "markdown",
   "metadata": {},
   "source": [
    "## Generate and Insert Users"
   ]
  },
  {
   "cell_type": "code",
   "execution_count": 26,
   "metadata": {},
   "outputs": [
    {
     "name": "stdout",
     "output_type": "stream",
     "text": [
      "Inserted 50 dummy users\n"
     ]
    }
   ],
   "source": [
    "user_data = []\n",
    "\n",
    "for i in range(1, 51):\n",
    "    name = fake.name()\n",
    "    email = fake.email()\n",
    "    password_hash = fake.sha256()\n",
    "    role = random.choice([\"User\", \"Employee\", \"Admin\"])\n",
    "    created_at = fake.date_time_between(start_date=\"-1y\", end_date=\"now\").strftime(\"%Y-%m-%d %H:%M:%S\")\n",
    "    user_data.append((i, name, email, password_hash, role, created_at))\n",
    "\n",
    "insert_users = \"\"\"\n",
    "INSERT INTO Users (User_ID, Name, Email, Password_Hash, Role, Created_At)\n",
    "VALUES (%s, %s, %s, %s, %s, %s)\n",
    "\"\"\"\n",
    "\n",
    "cursor.executemany(insert_users, user_data)\n",
    "conn.commit()\n",
    "print(f\"Inserted {cursor.rowcount} dummy users\")\n"
   ]
  },
  {
   "cell_type": "markdown",
   "metadata": {},
   "source": [
    "## Generate and Insert Lost_Items"
   ]
  },
  {
   "cell_type": "code",
   "execution_count": 28,
   "metadata": {},
   "outputs": [
    {
     "name": "stdout",
     "output_type": "stream",
     "text": [
      "Inserted 50 corrected dummy lost items\n"
     ]
    }
   ],
   "source": [
    "item_data = []\n",
    "\n",
    "categories = [\"Electronics\", \"Clothing\", \"Accessories\", \"Books\", \"Keys\", \"ID Cards\"]\n",
    "locations = [\"Library\", \"Cafeteria\", \"Gym\", \"Auditorium\", \"Parking Lot\", \"Restroom\"]\n",
    "statuses = [\"Lost\", \"Claimed\", \"Returned\"]\n",
    "\n",
    "for i in range(1, 51):\n",
    "    name = fake.word().capitalize()\n",
    "    category = random.choice(categories)\n",
    "    location = random.choice(locations)\n",
    "    found_date = fake.date_between(start_date=\"-6M\", end_date=\"today\")\n",
    "    description = fake.sentence(nb_words=12)\n",
    "    status = random.choice(statuses)\n",
    "    user_id = random.randint(1, 50)  # Assuming users with IDs 1-50 exist\n",
    "\n",
    "    item_data.append((i, name, category, location, found_date, description, status, user_id))\n",
    "\n",
    "insert_items = \"\"\"\n",
    "INSERT INTO Lost_Items (\n",
    "    Item_ID, Name, Category, Location, Found_Date, Description, Status, User_ID\n",
    ")\n",
    "VALUES (%s, %s, %s, %s, %s, %s, %s, %s)\n",
    "\"\"\"\n",
    "\n",
    "cursor.executemany(insert_items, item_data)\n",
    "conn.commit()\n",
    "print(f\"Inserted {cursor.rowcount} corrected dummy lost items\")\n"
   ]
  },
  {
   "cell_type": "markdown",
   "metadata": {},
   "source": [
    "## Insert Claims data"
   ]
  },
  {
   "cell_type": "code",
   "execution_count": null,
   "metadata": {},
   "outputs": [],
   "source": [
    "claim_data = []\n",
    "\n",
    "statuses = [\"Pending\", \"Verified\", \"Rejected\"]\n",
    "\n",
    "for i in range(1, 51):\n",
    "    user_id = random.randint(1, 50)\n",
    "    item_id = random.randint(1, 50)\n",
    "    status = random.choice(statuses)\n",
    "    submitted_at = fake.date_time_between(start_date=\"-3M\", end_date=\"now\").strftime(\"%Y-%m-%d %H:%M:%S\")\n",
    "    verified_by = random.randint(1, 50) if status != \"Pending\" else None\n",
    "    resolution_date = (\n",
    "        (datetime.strptime(submitted_at, \"%Y-%m-%d %H:%M:%S\") + timedelta(days=random.randint(1, 10)))\n",
    "        if status != \"Pending\" else None\n",
    "    )\n",
    "\n",
    "    claim_data.append((i, user_id, item_id, status, submitted_at, verified_by, resolution_date))\n",
    "\n",
    "insert_claims = \"\"\"\n",
    "INSERT INTO Claims (\n",
    "    Claim_ID, User_ID, Item_ID, Status, Submitted_At, Verified_By, Resolution_Date\n",
    ")\n",
    "VALUES (%s, %s, %s, %s, %s, %s, %s)\n",
    "\"\"\"\n",
    "\n",
    "cursor.executemany(insert_claims, claim_data)\n",
    "conn.commit()\n",
    "print(f\"Inserted {cursor.rowcount} dummy claims\")"
   ]
  },
  {
   "cell_type": "code",
   "execution_count": 31,
   "metadata": {},
   "outputs": [
    {
     "name": "stderr",
     "output_type": "stream",
     "text": [
      "/var/folders/mr/_57ysvt11t954qfbkzmprqqm0000gn/T/ipykernel_15096/3921522526.py:3: UserWarning: pandas only supports SQLAlchemy connectable (engine/connection) or database string URI or sqlite3 DBAPI2 connection. Other DBAPI2 objects are not tested. Please consider using SQLAlchemy.\n",
      "  df_users = pd.read_sql(\"SELECT * FROM Users\", conn)\n"
     ]
    },
    {
     "data": {
      "text/html": [
       "<div>\n",
       "<style scoped>\n",
       "    .dataframe tbody tr th:only-of-type {\n",
       "        vertical-align: middle;\n",
       "    }\n",
       "\n",
       "    .dataframe tbody tr th {\n",
       "        vertical-align: top;\n",
       "    }\n",
       "\n",
       "    .dataframe thead th {\n",
       "        text-align: right;\n",
       "    }\n",
       "</style>\n",
       "<table border=\"1\" class=\"dataframe\">\n",
       "  <thead>\n",
       "    <tr style=\"text-align: right;\">\n",
       "      <th></th>\n",
       "      <th>User_ID</th>\n",
       "      <th>Name</th>\n",
       "      <th>Email</th>\n",
       "      <th>Password_Hash</th>\n",
       "      <th>Role</th>\n",
       "      <th>Created_At</th>\n",
       "    </tr>\n",
       "  </thead>\n",
       "  <tbody>\n",
       "    <tr>\n",
       "      <th>0</th>\n",
       "      <td>1</td>\n",
       "      <td>Travis Zuniga</td>\n",
       "      <td>jfletcher@example.net</td>\n",
       "      <td>48dee48ee7c4c782da678a50d3445780e41b1e24cac8b6...</td>\n",
       "      <td>Employee</td>\n",
       "      <td>2024-09-14 23:07:52</td>\n",
       "    </tr>\n",
       "    <tr>\n",
       "      <th>1</th>\n",
       "      <td>2</td>\n",
       "      <td>Jim Young</td>\n",
       "      <td>whiteheadlindsay@example.org</td>\n",
       "      <td>221c291335796cd8c30088305f4fa711638dd668a045b1...</td>\n",
       "      <td>Admin</td>\n",
       "      <td>2025-03-29 14:09:49</td>\n",
       "    </tr>\n",
       "    <tr>\n",
       "      <th>2</th>\n",
       "      <td>3</td>\n",
       "      <td>Joel Gonzalez</td>\n",
       "      <td>whitechristopher@example.com</td>\n",
       "      <td>0646ea27b1c753f71813988502ffb6484ed1e71dd83dc9...</td>\n",
       "      <td>User</td>\n",
       "      <td>2025-01-19 14:20:55</td>\n",
       "    </tr>\n",
       "    <tr>\n",
       "      <th>3</th>\n",
       "      <td>4</td>\n",
       "      <td>James Travis</td>\n",
       "      <td>jodisanchez@example.net</td>\n",
       "      <td>c8b40782d0580d578f565c2049cca455317f305c8aa6c0...</td>\n",
       "      <td>Employee</td>\n",
       "      <td>2024-07-23 01:42:55</td>\n",
       "    </tr>\n",
       "    <tr>\n",
       "      <th>4</th>\n",
       "      <td>5</td>\n",
       "      <td>Tiffany Sanchez</td>\n",
       "      <td>sarah82@example.org</td>\n",
       "      <td>b585ef9e943701f734981f634596f36f8ccbfe9fcd83ca...</td>\n",
       "      <td>Employee</td>\n",
       "      <td>2024-07-11 12:05:15</td>\n",
       "    </tr>\n",
       "  </tbody>\n",
       "</table>\n",
       "</div>"
      ],
      "text/plain": [
       "   User_ID             Name                         Email  \\\n",
       "0        1    Travis Zuniga         jfletcher@example.net   \n",
       "1        2        Jim Young  whiteheadlindsay@example.org   \n",
       "2        3    Joel Gonzalez  whitechristopher@example.com   \n",
       "3        4     James Travis       jodisanchez@example.net   \n",
       "4        5  Tiffany Sanchez           sarah82@example.org   \n",
       "\n",
       "                                       Password_Hash      Role  \\\n",
       "0  48dee48ee7c4c782da678a50d3445780e41b1e24cac8b6...  Employee   \n",
       "1  221c291335796cd8c30088305f4fa711638dd668a045b1...     Admin   \n",
       "2  0646ea27b1c753f71813988502ffb6484ed1e71dd83dc9...      User   \n",
       "3  c8b40782d0580d578f565c2049cca455317f305c8aa6c0...  Employee   \n",
       "4  b585ef9e943701f734981f634596f36f8ccbfe9fcd83ca...  Employee   \n",
       "\n",
       "           Created_At  \n",
       "0 2024-09-14 23:07:52  \n",
       "1 2025-03-29 14:09:49  \n",
       "2 2025-01-19 14:20:55  \n",
       "3 2024-07-23 01:42:55  \n",
       "4 2024-07-11 12:05:15  "
      ]
     },
     "execution_count": 31,
     "metadata": {},
     "output_type": "execute_result"
    }
   ],
   "source": [
    "import pandas as pd\n",
    "\n",
    "df_users = pd.read_sql(\"SELECT * FROM Users\", conn)\n",
    "df_users.head()"
   ]
  },
  {
   "cell_type": "code",
   "execution_count": 32,
   "metadata": {},
   "outputs": [
    {
     "name": "stderr",
     "output_type": "stream",
     "text": [
      "/var/folders/mr/_57ysvt11t954qfbkzmprqqm0000gn/T/ipykernel_15096/4081135041.py:1: UserWarning: pandas only supports SQLAlchemy connectable (engine/connection) or database string URI or sqlite3 DBAPI2 connection. Other DBAPI2 objects are not tested. Please consider using SQLAlchemy.\n",
      "  df_items = pd.read_sql(\"SELECT * FROM Lost_Items\", conn)\n"
     ]
    },
    {
     "data": {
      "text/html": [
       "<div>\n",
       "<style scoped>\n",
       "    .dataframe tbody tr th:only-of-type {\n",
       "        vertical-align: middle;\n",
       "    }\n",
       "\n",
       "    .dataframe tbody tr th {\n",
       "        vertical-align: top;\n",
       "    }\n",
       "\n",
       "    .dataframe thead th {\n",
       "        text-align: right;\n",
       "    }\n",
       "</style>\n",
       "<table border=\"1\" class=\"dataframe\">\n",
       "  <thead>\n",
       "    <tr style=\"text-align: right;\">\n",
       "      <th></th>\n",
       "      <th>Item_ID</th>\n",
       "      <th>Name</th>\n",
       "      <th>Category</th>\n",
       "      <th>Location</th>\n",
       "      <th>Found_Date</th>\n",
       "      <th>Description</th>\n",
       "      <th>Status</th>\n",
       "      <th>User_ID</th>\n",
       "    </tr>\n",
       "  </thead>\n",
       "  <tbody>\n",
       "    <tr>\n",
       "      <th>0</th>\n",
       "      <td>1</td>\n",
       "      <td>Blue</td>\n",
       "      <td>Accessories</td>\n",
       "      <td>Auditorium</td>\n",
       "      <td>2024-09-29</td>\n",
       "      <td>Discover power fire machine society network fi...</td>\n",
       "      <td>Returned</td>\n",
       "      <td>50</td>\n",
       "    </tr>\n",
       "    <tr>\n",
       "      <th>1</th>\n",
       "      <td>2</td>\n",
       "      <td>Wish</td>\n",
       "      <td>Keys</td>\n",
       "      <td>Cafeteria</td>\n",
       "      <td>2025-03-11</td>\n",
       "      <td>Seven inside direction final by more political.</td>\n",
       "      <td>Claimed</td>\n",
       "      <td>37</td>\n",
       "    </tr>\n",
       "    <tr>\n",
       "      <th>2</th>\n",
       "      <td>3</td>\n",
       "      <td>Chair</td>\n",
       "      <td>Keys</td>\n",
       "      <td>Parking Lot</td>\n",
       "      <td>2025-02-24</td>\n",
       "      <td>Perhaps country continue weight off perform wo...</td>\n",
       "      <td>Returned</td>\n",
       "      <td>38</td>\n",
       "    </tr>\n",
       "    <tr>\n",
       "      <th>3</th>\n",
       "      <td>4</td>\n",
       "      <td>Capital</td>\n",
       "      <td>Books</td>\n",
       "      <td>Parking Lot</td>\n",
       "      <td>2024-10-21</td>\n",
       "      <td>Degree dinner until than degree current she in...</td>\n",
       "      <td>Returned</td>\n",
       "      <td>32</td>\n",
       "    </tr>\n",
       "    <tr>\n",
       "      <th>4</th>\n",
       "      <td>5</td>\n",
       "      <td>Seven</td>\n",
       "      <td>Accessories</td>\n",
       "      <td>Library</td>\n",
       "      <td>2025-01-31</td>\n",
       "      <td>Special subject effort job rather something we...</td>\n",
       "      <td>Lost</td>\n",
       "      <td>45</td>\n",
       "    </tr>\n",
       "  </tbody>\n",
       "</table>\n",
       "</div>"
      ],
      "text/plain": [
       "   Item_ID     Name     Category     Location  Found_Date  \\\n",
       "0        1     Blue  Accessories   Auditorium  2024-09-29   \n",
       "1        2     Wish         Keys    Cafeteria  2025-03-11   \n",
       "2        3    Chair         Keys  Parking Lot  2025-02-24   \n",
       "3        4  Capital        Books  Parking Lot  2024-10-21   \n",
       "4        5    Seven  Accessories      Library  2025-01-31   \n",
       "\n",
       "                                         Description    Status  User_ID  \n",
       "0  Discover power fire machine society network fi...  Returned       50  \n",
       "1    Seven inside direction final by more political.   Claimed       37  \n",
       "2  Perhaps country continue weight off perform wo...  Returned       38  \n",
       "3  Degree dinner until than degree current she in...  Returned       32  \n",
       "4  Special subject effort job rather something we...      Lost       45  "
      ]
     },
     "execution_count": 32,
     "metadata": {},
     "output_type": "execute_result"
    }
   ],
   "source": [
    "df_items = pd.read_sql(\"SELECT * FROM Lost_Items\", conn)\n",
    "df_items.head()"
   ]
  },
  {
   "cell_type": "code",
   "execution_count": 33,
   "metadata": {},
   "outputs": [
    {
     "name": "stderr",
     "output_type": "stream",
     "text": [
      "/var/folders/mr/_57ysvt11t954qfbkzmprqqm0000gn/T/ipykernel_15096/3962198764.py:1: UserWarning: pandas only supports SQLAlchemy connectable (engine/connection) or database string URI or sqlite3 DBAPI2 connection. Other DBAPI2 objects are not tested. Please consider using SQLAlchemy.\n",
      "  df_claims = pd.read_sql(\"SELECT * FROM Claims\", conn)\n"
     ]
    },
    {
     "data": {
      "text/html": [
       "<div>\n",
       "<style scoped>\n",
       "    .dataframe tbody tr th:only-of-type {\n",
       "        vertical-align: middle;\n",
       "    }\n",
       "\n",
       "    .dataframe tbody tr th {\n",
       "        vertical-align: top;\n",
       "    }\n",
       "\n",
       "    .dataframe thead th {\n",
       "        text-align: right;\n",
       "    }\n",
       "</style>\n",
       "<table border=\"1\" class=\"dataframe\">\n",
       "  <thead>\n",
       "    <tr style=\"text-align: right;\">\n",
       "      <th></th>\n",
       "      <th>Claim_ID</th>\n",
       "      <th>User_ID</th>\n",
       "      <th>Item_ID</th>\n",
       "      <th>Status</th>\n",
       "      <th>Submitted_At</th>\n",
       "      <th>Verified_By</th>\n",
       "      <th>Resolution_Date</th>\n",
       "    </tr>\n",
       "  </thead>\n",
       "  <tbody>\n",
       "    <tr>\n",
       "      <th>0</th>\n",
       "      <td>1</td>\n",
       "      <td>35</td>\n",
       "      <td>14</td>\n",
       "      <td>Rejected</td>\n",
       "      <td>2025-02-27 13:27:54</td>\n",
       "      <td>45.0</td>\n",
       "      <td>2025-03-04 13:27:54</td>\n",
       "    </tr>\n",
       "    <tr>\n",
       "      <th>1</th>\n",
       "      <td>2</td>\n",
       "      <td>40</td>\n",
       "      <td>13</td>\n",
       "      <td>Pending</td>\n",
       "      <td>2025-02-13 08:52:37</td>\n",
       "      <td>NaN</td>\n",
       "      <td>NaT</td>\n",
       "    </tr>\n",
       "    <tr>\n",
       "      <th>2</th>\n",
       "      <td>3</td>\n",
       "      <td>4</td>\n",
       "      <td>15</td>\n",
       "      <td>Rejected</td>\n",
       "      <td>2025-02-08 14:25:22</td>\n",
       "      <td>2.0</td>\n",
       "      <td>2025-02-18 14:25:22</td>\n",
       "    </tr>\n",
       "    <tr>\n",
       "      <th>3</th>\n",
       "      <td>4</td>\n",
       "      <td>18</td>\n",
       "      <td>6</td>\n",
       "      <td>Rejected</td>\n",
       "      <td>2025-02-11 07:40:43</td>\n",
       "      <td>22.0</td>\n",
       "      <td>2025-02-20 07:40:43</td>\n",
       "    </tr>\n",
       "    <tr>\n",
       "      <th>4</th>\n",
       "      <td>5</td>\n",
       "      <td>14</td>\n",
       "      <td>48</td>\n",
       "      <td>Pending</td>\n",
       "      <td>2025-01-22 11:47:59</td>\n",
       "      <td>NaN</td>\n",
       "      <td>NaT</td>\n",
       "    </tr>\n",
       "  </tbody>\n",
       "</table>\n",
       "</div>"
      ],
      "text/plain": [
       "   Claim_ID  User_ID  Item_ID    Status        Submitted_At  Verified_By  \\\n",
       "0         1       35       14  Rejected 2025-02-27 13:27:54         45.0   \n",
       "1         2       40       13   Pending 2025-02-13 08:52:37          NaN   \n",
       "2         3        4       15  Rejected 2025-02-08 14:25:22          2.0   \n",
       "3         4       18        6  Rejected 2025-02-11 07:40:43         22.0   \n",
       "4         5       14       48   Pending 2025-01-22 11:47:59          NaN   \n",
       "\n",
       "      Resolution_Date  \n",
       "0 2025-03-04 13:27:54  \n",
       "1                 NaT  \n",
       "2 2025-02-18 14:25:22  \n",
       "3 2025-02-20 07:40:43  \n",
       "4                 NaT  "
      ]
     },
     "execution_count": 33,
     "metadata": {},
     "output_type": "execute_result"
    }
   ],
   "source": [
    "df_claims = pd.read_sql(\"SELECT * FROM Claims\", conn)\n",
    "df_claims.head()"
   ]
  },
  {
   "cell_type": "code",
   "execution_count": 34,
   "metadata": {},
   "outputs": [
    {
     "name": "stderr",
     "output_type": "stream",
     "text": [
      "/var/folders/mr/_57ysvt11t954qfbkzmprqqm0000gn/T/ipykernel_15096/2006005169.py:1: UserWarning: pandas only supports SQLAlchemy connectable (engine/connection) or database string URI or sqlite3 DBAPI2 connection. Other DBAPI2 objects are not tested. Please consider using SQLAlchemy.\n",
      "  df_lost = pd.read_sql(\"SELECT * FROM Lost_Items WHERE Status = 'Lost'\", conn)\n"
     ]
    },
    {
     "data": {
      "text/html": [
       "<div>\n",
       "<style scoped>\n",
       "    .dataframe tbody tr th:only-of-type {\n",
       "        vertical-align: middle;\n",
       "    }\n",
       "\n",
       "    .dataframe tbody tr th {\n",
       "        vertical-align: top;\n",
       "    }\n",
       "\n",
       "    .dataframe thead th {\n",
       "        text-align: right;\n",
       "    }\n",
       "</style>\n",
       "<table border=\"1\" class=\"dataframe\">\n",
       "  <thead>\n",
       "    <tr style=\"text-align: right;\">\n",
       "      <th></th>\n",
       "      <th>Item_ID</th>\n",
       "      <th>Name</th>\n",
       "      <th>Category</th>\n",
       "      <th>Location</th>\n",
       "      <th>Found_Date</th>\n",
       "      <th>Description</th>\n",
       "      <th>Status</th>\n",
       "      <th>User_ID</th>\n",
       "    </tr>\n",
       "  </thead>\n",
       "  <tbody>\n",
       "    <tr>\n",
       "      <th>0</th>\n",
       "      <td>5</td>\n",
       "      <td>Seven</td>\n",
       "      <td>Accessories</td>\n",
       "      <td>Library</td>\n",
       "      <td>2025-01-31</td>\n",
       "      <td>Special subject effort job rather something we...</td>\n",
       "      <td>Lost</td>\n",
       "      <td>45</td>\n",
       "    </tr>\n",
       "    <tr>\n",
       "      <th>1</th>\n",
       "      <td>6</td>\n",
       "      <td>Themselves</td>\n",
       "      <td>Accessories</td>\n",
       "      <td>Gym</td>\n",
       "      <td>2025-01-18</td>\n",
       "      <td>Floor make leader culture good week spring gun...</td>\n",
       "      <td>Lost</td>\n",
       "      <td>21</td>\n",
       "    </tr>\n",
       "    <tr>\n",
       "      <th>2</th>\n",
       "      <td>9</td>\n",
       "      <td>Degree</td>\n",
       "      <td>Books</td>\n",
       "      <td>Library</td>\n",
       "      <td>2024-12-24</td>\n",
       "      <td>End no home open her across very kid.</td>\n",
       "      <td>Lost</td>\n",
       "      <td>49</td>\n",
       "    </tr>\n",
       "    <tr>\n",
       "      <th>3</th>\n",
       "      <td>13</td>\n",
       "      <td>Long</td>\n",
       "      <td>Electronics</td>\n",
       "      <td>Auditorium</td>\n",
       "      <td>2024-12-30</td>\n",
       "      <td>Treat speak rest whole prove world really late...</td>\n",
       "      <td>Lost</td>\n",
       "      <td>7</td>\n",
       "    </tr>\n",
       "    <tr>\n",
       "      <th>4</th>\n",
       "      <td>14</td>\n",
       "      <td>Arm</td>\n",
       "      <td>Books</td>\n",
       "      <td>Restroom</td>\n",
       "      <td>2024-12-08</td>\n",
       "      <td>Able reason future system and create seek exac...</td>\n",
       "      <td>Lost</td>\n",
       "      <td>12</td>\n",
       "    </tr>\n",
       "  </tbody>\n",
       "</table>\n",
       "</div>"
      ],
      "text/plain": [
       "   Item_ID        Name     Category    Location  Found_Date  \\\n",
       "0        5       Seven  Accessories     Library  2025-01-31   \n",
       "1        6  Themselves  Accessories         Gym  2025-01-18   \n",
       "2        9      Degree        Books     Library  2024-12-24   \n",
       "3       13        Long  Electronics  Auditorium  2024-12-30   \n",
       "4       14         Arm        Books    Restroom  2024-12-08   \n",
       "\n",
       "                                         Description Status  User_ID  \n",
       "0  Special subject effort job rather something we...   Lost       45  \n",
       "1  Floor make leader culture good week spring gun...   Lost       21  \n",
       "2              End no home open her across very kid.   Lost       49  \n",
       "3  Treat speak rest whole prove world really late...   Lost        7  \n",
       "4  Able reason future system and create seek exac...   Lost       12  "
      ]
     },
     "execution_count": 34,
     "metadata": {},
     "output_type": "execute_result"
    }
   ],
   "source": [
    "df_lost = pd.read_sql(\"SELECT * FROM Lost_Items WHERE Status = 'Lost'\", conn)\n",
    "df_lost.head()"
   ]
  },
  {
   "cell_type": "code",
   "execution_count": null,
   "metadata": {},
   "outputs": [],
   "source": []
  }
 ],
 "metadata": {
  "kernelspec": {
   "display_name": "Python 3",
   "language": "python",
   "name": "python3"
  },
  "language_info": {
   "codemirror_mode": {
    "name": "ipython",
    "version": 3
   },
   "file_extension": ".py",
   "mimetype": "text/x-python",
   "name": "python",
   "nbconvert_exporter": "python",
   "pygments_lexer": "ipython3",
   "version": "3.9.6"
  }
 },
 "nbformat": 4,
 "nbformat_minor": 2
}
